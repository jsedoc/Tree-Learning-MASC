{
  "nbformat": 4,
  "nbformat_minor": 0,
  "metadata": {
    "colab": {
      "name": "spinntree2seq.ipynb",
      "version": "0.3.2",
      "provenance": [],
      "private_outputs": true
    },
    "kernelspec": {
      "name": "python3",
      "display_name": "Python 3"
    },
    "accelerator": "GPU"
  },
  "cells": [
    {
      "cell_type": "markdown",
      "metadata": {
        "id": "view-in-github",
        "colab_type": "text"
      },
      "source": [
        "[View in Colaboratory](https://colab.research.google.com/github/jsedoc/Tree-Learning-MASC/blob/master/spinntree2seq.ipynb)"
      ]
    },
    {
      "metadata": {
        "id": "M5STKjKvm_hX",
        "colab_type": "text"
      },
      "cell_type": "markdown",
      "source": [
        "First we need to install the necessary libraries"
      ]
    },
    {
      "metadata": {
        "id": "KQEn7xZCmunH",
        "colab_type": "code",
        "colab": {}
      },
      "cell_type": "code",
      "source": [
        "import sys\n",
        "print(sys.version_info)\n",
        "\n",
        "!pip install http://download.pytorch.org/whl/cu90/torch-0.3.0.post4-cp36-cp36m-linux_x86_64.whl\n",
        "!pip install tqdm nltk\n",
        "import torch\n",
        "\n",
        "print(torch.cuda.device_count())\n",
        "use_cuda = torch.cuda.is_available()\n"
      ],
      "execution_count": 0,
      "outputs": []
    },
    {
      "metadata": {
        "id": "OUhcyUG4cjFR",
        "colab_type": "code",
        "colab": {}
      },
      "cell_type": "code",
      "source": [
        "import os, sys"
      ],
      "execution_count": 0,
      "outputs": []
    },
    {
      "metadata": {
        "id": "2Q1Ven3lyWZD",
        "colab_type": "text"
      },
      "cell_type": "markdown",
      "source": [
        "Now we are going to mount the google drive folder to load / save checkpoints. "
      ]
    },
    {
      "metadata": {
        "id": "XJvkqTUhyU_e",
        "colab_type": "code",
        "colab": {}
      },
      "cell_type": "code",
      "source": [
        "!pip install -U -q PyDrive\n",
        "from pydrive.auth import GoogleAuth\n",
        "from pydrive.drive import GoogleDrive\n",
        "from google.colab import auth\n",
        "from oauth2client.client import GoogleCredentials\n",
        "\n"
      ],
      "execution_count": 0,
      "outputs": []
    },
    {
      "metadata": {
        "id": "0ASmvIbBylAC",
        "colab_type": "text"
      },
      "cell_type": "markdown",
      "source": [
        "Next we clone the python files"
      ]
    },
    {
      "metadata": {
        "id": "VcSttN05nrlS",
        "colab_type": "code",
        "colab": {}
      },
      "cell_type": "code",
      "source": [
        "!git clone https://github.com/jsedoc/Tree-Learning-MASC tl"
      ],
      "execution_count": 0,
      "outputs": []
    },
    {
      "metadata": {
        "id": "CJPdFSDnyq_m",
        "colab_type": "text"
      },
      "cell_type": "markdown",
      "source": [
        "Now we add the system paths"
      ]
    },
    {
      "metadata": {
        "id": "g8aPkxKbpTPS",
        "colab_type": "code",
        "colab": {}
      },
      "cell_type": "code",
      "source": [
        "print(\"Adding the path to our code in:\", os.path.abspath(os.path.join('tl/code')))\n",
        "sys.path.append(os.path.abspath(os.path.join('tl/code')))\n",
        "from tl.code.tree2seq import *\n",
        "from tl.code.tree2seq.spinn import *"
      ],
      "execution_count": 0,
      "outputs": []
    },
    {
      "metadata": {
        "id": "xQumTroF3DFe",
        "colab_type": "text"
      },
      "cell_type": "markdown",
      "source": [
        "Load the data next"
      ]
    },
    {
      "metadata": {
        "id": "7_QPWfyCqO_4",
        "colab_type": "code",
        "colab": {}
      },
      "cell_type": "code",
      "source": [
        "enc_filename = os.path.abspath(os.path.join('tl/code/data/train.orig'))\n",
        "dec_filename = os.path.abspath(os.path.join('tl/code/data/train.orig'))\n",
        "                               \n",
        "dataset = Dataset()\n",
        "dataset.create_vocab(enc_filename)\n",
        "one_hot_dict = dataset.create_one_hot(128)\n",
        "trees = dataset.read_trees(enc_filename)\n",
        "seqs = dataset.read_seqs(dec_filename)\n",
        "ptr_trees = [dataset.make_tree_seq(tree) for tree in tqdm(trees)]\n"
      ],
      "execution_count": 0,
      "outputs": []
    },
    {
      "metadata": {
        "id": "qNcKAMaCvHXB",
        "colab_type": "code",
        "colab": {}
      },
      "cell_type": "code",
      "source": [
        "values = [dataset.token_dict[_] for _ in seqs[1].strip().replace('(','').replace(')','').split()]\n",
        "buf = torch.stack([torch.stack([one_hot_dict[_].view(-1) for _ in seqs[1].strip().replace('(','').replace(')','').split()])])\n",
        "transitions = [REDUCE if _ == ')' else SHIFT for _ in seqs[1].strip().replace('(','').split()]\n",
        "\n",
        "print(buf)\n",
        "print(transitions)\n",
        "print(len(buf))"
      ],
      "execution_count": 0,
      "outputs": []
    },
    {
      "metadata": {
        "id": "TYuEH9ZT2rxK",
        "colab_type": "text"
      },
      "cell_type": "markdown",
      "source": [
        "Now we can finally initialize the SPINN"
      ]
    },
    {
      "metadata": {
        "id": "D6wZgL_Q2mgD",
        "colab_type": "code",
        "colab": {}
      },
      "cell_type": "code",
      "source": [
        "config = SPINNConfig()\n",
        "config.d_hidden = 128\n",
        "encoder = SPINN(config)\n",
        "#print(encoder.forward(ptr_trees[1][0], Var(ptr_trees[1][1])))\n",
        "print(config.d_hidden)"
      ],
      "execution_count": 0,
      "outputs": []
    },
    {
      "metadata": {
        "id": "uQmykAKT3JBZ",
        "colab_type": "text"
      },
      "cell_type": "markdown",
      "source": [
        "Run the forward step on the SPINN module"
      ]
    },
    {
      "metadata": {
        "id": "qnUucBEqfEgC",
        "colab_type": "code",
        "colab": {}
      },
      "cell_type": "code",
      "source": [
        "encoder.forward(Variable(buf), Variable(torch.LongTensor(transitions).view(1,-1)))"
      ],
      "execution_count": 0,
      "outputs": []
    }
  ]
}